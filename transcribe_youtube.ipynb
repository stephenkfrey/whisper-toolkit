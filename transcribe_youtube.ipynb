{
 "cells": [
  {
   "attachments": {},
   "cell_type": "markdown",
   "metadata": {},
   "source": [
    "# --- Input custom variables here --- "
   ]
  },
  {
   "cell_type": "code",
   "execution_count": 1,
   "metadata": {},
   "outputs": [],
   "source": [
    "PLAYLIST_URL = \"https://www.youtube.com/playlist?list=PL9zq2zalZB1JRZsPtYeFVQAZkrDbZx3Qw\" # My Learning Playlist \n",
    "TEST_URL = \"https://www.youtube.com/watch?v=1AElONvi9WQ\" # 1 minute video \n",
    "\n",
    "WHISPER_MODEL_SIZE = \"tiny\""
   ]
  },
  {
   "attachments": {},
   "cell_type": "markdown",
   "metadata": {},
   "source": [
    "# --- How to use --- \n",
    "\n",
    "Export notebook as `transcribe_youtube.py`, then import to use the key functions\n",
    "\n",
    "\n",
    "\n",
    "### example usage \n",
    "\n",
    "In your Python script/notebook: \n",
    "\n",
    "```\n",
    "from transcribe_youtube import get_transcription_from_youtube_url, get_transcriptions_from_youtube_playlist\n",
    "\n",
    "PLAYLIST_URL = \"https://www.youtube.com/playlist?list=PL9zq2zalZB1JRZsPtYeFVQAZkrDbZx3Qw\" # My Learning Playlist \n",
    "TEST_URL = \"https://www.youtube.com/watch?v=vaUy6zyJfwU\" # 1 minute video \n",
    "\n",
    "# get transcription for a single video \n",
    "single_video_transcription = get_transcription_from_youtube_url(TEST_URL)\n",
    "\n",
    "# get transcriptions for all videos in a playlist\n",
    "playlist_transcriptions = get_transcriptions_from_youtube_playlist(PLAYLIST_URL)\n",
    "\n",
    "```\n",
    "\n",
    "\n",
    "### return object\n",
    "Returns a dict with `title`, `url`, and `transcription`\n",
    "\n",
    "\n",
    "Example: \n",
    "```\n",
    "{'title': 'Deep Learning Maps Animal Movement',\n",
    " 'url': 'https://www.youtube.com/watch?v=vaUy6zyJfwU',\n",
    " 'transcription': ' We developed a new type of 3D deep learning approach that can take in normal color videos of behaving animals and behaving humans and then output the precise 3D locations of body landmarks so skeletal joints that you can track over time and thus provide a comprehensive description of how subjects are moving. This is a huge leap forward compared to a traditional motion capture system in which subjects need to wear highly invasive markers on the body. And then another big issue with motion captures that it requires that you have a clear line of sights to these markers and in a deep learning-based approach that we develop, we relieve this requirement.'}\n",
    " ```"
   ]
  },
  {
   "attachments": {},
   "cell_type": "markdown",
   "metadata": {},
   "source": [
    "# --- Run Notebook --- "
   ]
  },
  {
   "cell_type": "code",
   "execution_count": 2,
   "metadata": {},
   "outputs": [],
   "source": [
    "# !pip install replicate\n",
    "# !pip install pytube\n",
    "# !pip install flask "
   ]
  },
  {
   "cell_type": "code",
   "execution_count": 3,
   "metadata": {},
   "outputs": [],
   "source": [
    "import pandas as pd\n",
    "from pytube import YouTube, Playlist "
   ]
  },
  {
   "attachments": {},
   "cell_type": "markdown",
   "metadata": {},
   "source": [
    "### Load Replicate's Whisper API "
   ]
  },
  {
   "cell_type": "code",
   "execution_count": 4,
   "metadata": {},
   "outputs": [],
   "source": [
    "import os\n",
    "from dotenv import load_dotenv\n",
    "load_dotenv()\n",
    "\n",
    "REPLICATE_API_TOKEN = os.getenv(\"REPLICATE_API_KEY\")\n",
    "REPLICATE_MODEL_VERSION = os.getenv(\"REPLICATE_MODEL_VERSION\")"
   ]
  },
  {
   "cell_type": "code",
   "execution_count": 5,
   "metadata": {},
   "outputs": [],
   "source": [
    "# create a replicate client \n",
    "import replicate\n",
    "client = replicate.Client(api_token=REPLICATE_API_TOKEN)\n",
    "model = client.models.get(\"openai/whisper\")\n",
    "version = model.versions.get(REPLICATE_MODEL_VERSION)"
   ]
  },
  {
   "cell_type": "code",
   "execution_count": 6,
   "metadata": {},
   "outputs": [],
   "source": [
    "def transcribe_audio(audio_url):\n",
    "    output = version.predict(\n",
    "        audio=audio_url,\n",
    "        language=\"en\", \n",
    "        model=WHISPER_MODEL_SIZE\n",
    "    )\n",
    "\n",
    "    return output "
   ]
  },
  {
   "cell_type": "code",
   "execution_count": 7,
   "metadata": {},
   "outputs": [],
   "source": [
    "def get_mp3_url_from_youtube(youtube_url):\n",
    "    mp3 = YouTube(youtube_url).streams.filter(only_audio=True).first()\n",
    "    return mp3.url "
   ]
  },
  {
   "cell_type": "code",
   "execution_count": 8,
   "metadata": {},
   "outputs": [],
   "source": [
    "# the main function \n",
    "import time \n",
    "\n",
    "def get_raw_transcription_from_youtube_url(youtube_url):\n",
    "    start_time = time.time()\n",
    "    mp3_url = get_mp3_url_from_youtube(youtube_url)\n",
    "    whisperresponse = transcribe_audio(mp3_url)\n",
    "\n",
    "    # if whiser fails then return err \n",
    "    \n",
    "    # print (\"Time taken to transcribe (sec): \", time.time() - start_time)\n",
    "    return whisperresponse['transcription']\n"
   ]
  },
  {
   "cell_type": "code",
   "execution_count": 9,
   "metadata": {},
   "outputs": [],
   "source": [
    "def get_transcription_from_youtube_url(youtube_url):\n",
    "    yt_object = YouTube(youtube_url)\n",
    "    title = yt_object.title\n",
    "    transcription = get_raw_transcription_from_youtube_url(youtube_url)\n",
    "\n",
    "    return {\n",
    "        \"title\": title,\n",
    "        \"url\": youtube_url,\n",
    "        \"content\": transcription\n",
    "    }\n"
   ]
  },
  {
   "cell_type": "code",
   "execution_count": 10,
   "metadata": {},
   "outputs": [],
   "source": [
    "# TESTING \n",
    "# # create an mp3 object from the youtube video\n",
    "\n",
    "# mp3 = YouTube(TEST_URL).streams.filter(only_audio=True).first()\n",
    "# print (mp3.url)\n",
    "\n",
    "# whisperresponse = transcribe_audio(mp3.url)\n",
    "# trans = whisperresponse['transcription']\n",
    "# trans"
   ]
  },
  {
   "cell_type": "code",
   "execution_count": 11,
   "metadata": {},
   "outputs": [],
   "source": [
    "# trans = get_transcription_from_yt_url(TEST_URL)\n",
    "# trans"
   ]
  },
  {
   "attachments": {},
   "cell_type": "markdown",
   "metadata": {},
   "source": [
    "# Run transcription on an entire YouTube Playlist "
   ]
  },
  {
   "attachments": {},
   "cell_type": "markdown",
   "metadata": {},
   "source": [
    "### playlist helpers "
   ]
  },
  {
   "cell_type": "code",
   "execution_count": 12,
   "metadata": {},
   "outputs": [],
   "source": [
    "def get_urls_from_youtube_playlist(playlist_url):\n",
    "    \"\"\"Returns a list of video urls from a youtube playlist\"\"\"\n",
    "    playlist = Playlist(playlist_url)\n",
    "    return playlist.video_urls\n",
    "\n",
    "# print (get_urls_from_youtube_playlist(PLAYLIST_URL))"
   ]
  },
  {
   "attachments": {},
   "cell_type": "markdown",
   "metadata": {},
   "source": [
    "### main function: youtube playlist -> dict of transcriptions"
   ]
  },
  {
   "cell_type": "code",
   "execution_count": 13,
   "metadata": {},
   "outputs": [],
   "source": [
    "# get the urls from the playlist\n",
    "\n",
    "def get_transcriptions_from_youtube_playlist(playlist_url):\n",
    "    \"\"\"\n",
    "    Returns a list of dictionaries with the following keys:\n",
    "    - title\n",
    "    - url\n",
    "    - content\n",
    "    \"\"\"\n",
    "\n",
    "    start_time = time.time()\n",
    "\n",
    "    # Get list of individual video URLS\n",
    "    playlist_url_list = get_urls_from_youtube_playlist(PLAYLIST_URL)\n",
    "\n",
    "    # Get playlist title \n",
    "    playlist_title = Playlist(PLAYLIST_URL).title\n",
    "\n",
    "    # ========\n",
    "    # For each video, get the transcription\n",
    "    transcriptions = [] # list to be returned \n",
    "\n",
    "    for url in playlist_url_list:\n",
    "        transcriptions.append(\n",
    "            get_transcription_from_youtube_url(url)\n",
    "        )\n",
    "\n",
    "    # OPTIONAL: save to a csv file\n",
    "    df = pd.DataFrame(transcriptions)\n",
    "    df.to_csv(f\"{playlist_title}_transcriptions.csv\", index=False)\n",
    "\n",
    "    # log the time taken, round to 2 decimal places\n",
    "    print (f\"\\n===\\nTime taken to transcribe Playlist '{playlist_title}' (sec): \\n\", round(time.time() - start_time, 2), \"\\n===\")\n",
    "\n",
    "    return transcriptions\n"
   ]
  },
  {
   "attachments": {},
   "cell_type": "markdown",
   "metadata": {},
   "source": [
    "# --- Run tests ---"
   ]
  },
  {
   "cell_type": "code",
   "execution_count": 14,
   "metadata": {},
   "outputs": [
    {
     "data": {
      "text/plain": [
       "{'title': \"Why Blue Whales Don't Get Cancer - Peto's Paradox\",\n",
       " 'url': 'https://www.youtube.com/watch?v=1AElONvi9WQ',\n",
       " 'transcription': \" Cancer is a creepy and mysterious thing. In the process of trying to understand it to get better at killing it, we discovered a biological paradox that remains unsolved to this day. Large animals seem to be immune to cancer, which doesn't make any sense. The bigger a being, the more cancer it should have. To understand why, we first need to take a look at the nature of cancer itself. Our cells are protein robots made out of hundreds of millions of parts. Guided only by chemical reactions, they create and dismantle structures, sustain a metabolism to gain energy, or make almost perfect copies of themselves. We call these complex chemical reactions pathways. They are biochemical networks upon networks, intertwined and stamped on top of each other. Most of them can barely be comprehended by a single human mind, and yet they function perfectly. Until they don't. With billions of trillions of reactions happening in thousands of networks over many years, the question is not if something will go wrong, but when. Tiny mistakes add up until the grandiose machinery gets corrupted. To prevent this from getting out of hand, our cells have kills, which is that make them commit so a size. But these kill switches are not infallible. If they fail, a cell can turn into a cancer cell. Most of them are slain by the immune system very quickly. But this is a numbers game. Given enough time, a cell will accrue enough mistakes, slip by unnoticed and begin making more of itself. All animals have to deal with this problem. In general, the cells of different animals are the same size. The cells of a mouse aren't smaller than yours. It just has fewer cells in total and a shorter lifespan. Fewer cells and a short life means a lower chance of things going wrong or cells mutating, or at least it should mean that. Humans live about 50 times longer and have 1,000 times more. Yet the rate of cancer is basically the same in humans and in mice. Even wager, blue whales with about 3,000 times more cells than humans don't seem to get cancer at all, really. This is Peto's paradox. The baffling realization that large animals have much, much less cancer than they should. Scientists think there are two main ways of explaining the paradox, evolution and hyperchumers. Solution 1, Evolve or become a blob of cancer. As multicellular beings developed to 600 million years ago, animals became bigger and bigger, which added more and more cells and hence more and more chances that cells could be corrupted. So the collective had to invest in better and better cancer defenses. The ones that did not died out. But cancer doesn't just happen, but it's a process that involves many individual mistakes and mutations in several specific genes within the same cell. These genes are called proto-onca genes and when they mutate it's bad news. For example, with the right mutation, a cell will lose its ability to kill itself. Another mutation and it will develop the ability to hide. Another and it will send out calls for resources. Another one and it will multiply quickly. These oncogenes have an antagonist though, tumour suppressor genes. They prevent these critical mutations from happening or order the cell to kill itself if they decided to be on repair. It turns out that large animals have an increased number of them. Because of this, an infant cells require more mutations than mice cells to develop a tumour. They are not immune but more resilient. This adaption probably comes with a cost in some form, but researchers still aren't sure what it is. Maybe tumour suppressors make elephants age quicker later in life or slow down how quickly injures heal. We don't know yet. But the solution to the paradox may actually be something different. Hypertumors. Solution 2. Hypertumors. Yes. Rally. Hypertumors are named after hyperparacites, the parasites of parasites. Hypertumors are the tumours of tumours. Cancer can be thought of as a breakdown in cooperation. Normally, cells work together to form structures like organs, tissue or elements of the immune system. But cancer cells are selfish and only work for their own short-term benefit. If they're successful, they form tumours, huge cancer collectives that can be very hard to kill. Making a tumour is hard work though. Millions or billions of cancer cells mod apply rapidly, which requires a lot of resources and energy. The amount of nutrients they can steal from the body becomes the limiting factor for growth. So the tumour cells trick the body to build new blood vessels directly to the tumour to feed the thing, killing it. And here, the nature of cancer cells may become their own undoing. Cancer cells are inherently unstable and so they can continue to mutate. Some of them faster than their bodies. If they do this for a while, at some point, one of the copies of the copies of the original cancer cell might suddenly think of itself as an individual again and stop cooperating. Which means, just like the body, the original tumour suddenly becomes an enemy, fighting for the same scarce nutrients and resources. So the newly mutated cells can create a hyperchumour. Instead of helping, they cut off the blood supply to their former bodies, which will starve and kill the original cancer cells. Cancer is killing cancer. This process can repeat over and over, and this may prevent cancer from becoming a problem for a large organism. It is possible that large animals have more of these hyperchumers than we realize they might just not become big enough to notice. Which makes sense, a 2 gram tumour is 10% of a mouse's body weight, while it's less than 0.002% of a human, and 0.00002% of a blue whale. All three tumours require the same number of cell divisions and have the same number of cells. So an old blue whale might be filled with tiny cancers and just not care. There are other proposed solutions to Peter's paradox, such as different metabolic rates or different cellular architecture. But right now, we just don't know. Scientists are working on the problem. Figuring out how large animals are so resilient to one of the most deadly diseases we know could open the path to new therapies and treatments. Cancer has always been a challenge. Today, we are finally beginning to understand it and by doing so, one day, we might finally overcome it. This video was sponsored by YOU. If you want to help us make more, you can do so by supporting us on Patreon or getting one of the beautiful things we've made. My cast space explorer notebook with infographic pages and unique grids to inspire your creativity or an infographic post-abundal or the very comfy Cotskzart hoodie. Or, if you missed it the first time, the second run of our gratitude journal. We put a lot of time and love into our much because just like with our videos, we only want to put things into the world that we feel good about. Cotskzart is a project that by rights shouldn't really work. Videos like the one you just watched take months to finish and we're only able to put in so much time because of your direct support because you watch and share and because you care. Thank you for watching.\"}"
      ]
     },
     "execution_count": 14,
     "metadata": {},
     "output_type": "execute_result"
    }
   ],
   "source": [
    "# single_video_transcription = get_transcription_from_youtube_url(TEST_URL)\n",
    "# single_video_transcription"
   ]
  },
  {
   "cell_type": "code",
   "execution_count": 17,
   "metadata": {},
   "outputs": [],
   "source": [
    "# # save that to a csv file\n",
    "\n",
    "# with open (\"single_video_transcription.csv\", \"w\") as f:\n",
    "#     f.write(single_video_transcription['transcription'])"
   ]
  },
  {
   "cell_type": "code",
   "execution_count": 15,
   "metadata": {},
   "outputs": [
    {
     "name": "stdout",
     "output_type": "stream",
     "text": [
      "\n",
      "===\n",
      "Time taken to transcribe Playlist 'My Learning Playlist' (sec): \n",
      " 79.93 \n",
      "===\n"
     ]
    },
    {
     "data": {
      "text/plain": [
       "[{'title': 'Deep Learning Maps Animal Movement',\n",
       "  'url': 'https://www.youtube.com/watch?v=vaUy6zyJfwU',\n",
       "  'transcription': ' We developed a new type of 3D deep learning approach that can take in normal color videos of behaving animals and behaving humans and then output the precise 3D locations of body landmarks so skeletal joints that you can track over time and thus provide a comprehensive description of how subjects are moving. This is a huge leap forward compared to a traditional motion capture system in which subjects need to wear highly invasive markers on the body. And then another big issue with motion captures that it requires that you have a clear line of sights to these markers and in a deep learning-based approach that we develop, we relieve this requirement.'},\n",
       " {'title': \"First look: Stable Diffusion's Top 10 Datasets\",\n",
       "  'url': 'https://www.youtube.com/watch?v=CcKJD7PUaZg',\n",
       "  'transcription': \" I don't think I've ever done a one minute video before. We're wasting time. Stable diffusions top 10 datasets. I generated this image via stable diffusion, which is available for free online. Stable diffusion is one of the largest text image models in the world. It used four times as many images in training compared to open AR's Dolly 2. Just so reminder that all text image models only look at images during training. They do not store and they cannot reproduce the original images. Number one, Pinterest at 8.6% of stable diffusion's data set. Then WordPress. Find out America the marketplace. Once or three RF, the stock photo site. Shopify smug mug, square space. Daily mail the new site, Wikimedia, photo shelter, and two billion more images. I'd love to have you join me to learn more about these kind of things at the Memor.\"}]"
      ]
     },
     "execution_count": 15,
     "metadata": {},
     "output_type": "execute_result"
    }
   ],
   "source": [
    "# playlist_transcriptions = get_transcriptions_from_youtube_playlist(PLAYLIST_URL)\n",
    "# playlist_transcriptions"
   ]
  },
  {
   "cell_type": "code",
   "execution_count": null,
   "metadata": {},
   "outputs": [],
   "source": []
  },
  {
   "attachments": {},
   "cell_type": "markdown",
   "metadata": {},
   "source": [
    "# --- with Banana.dev ---"
   ]
  },
  {
   "cell_type": "code",
   "execution_count": null,
   "metadata": {},
   "outputs": [],
   "source": []
  },
  {
   "cell_type": "code",
   "execution_count": null,
   "metadata": {},
   "outputs": [],
   "source": [
    "from io import BytesIO\n",
    "import base64\n",
    "import banana_dev as banana\n",
    "\n",
    "api_key = \"2782cbc2-5317-49e8-a7a3-eb5fcb308c9f\"\n",
    "model_key = \"b80a43e4-06ff-420e-9f74-1e099ee75755\"\n",
    "\n",
    "# Expects an mp3 file named test.mp3 in directory\n",
    "with open(f'whisper.mp3', 'rb') as file:\n",
    "    mp3bytes = BytesIO(file.read())\n",
    "mp3 = base64.b64encode(mp3bytes.getvalue()).decode(\"ISO-8859-1\")\n",
    "\n",
    "model_payload = {\"mp3BytesString\": mp3}\n",
    "\n",
    "out = banana.run(api_key, model_key, model_payload)\n",
    "print(out)\n"
   ]
  }
 ],
 "metadata": {
  "kernelspec": {
   "display_name": "ml",
   "language": "python",
   "name": "python3"
  },
  "language_info": {
   "codemirror_mode": {
    "name": "ipython",
    "version": 3
   },
   "file_extension": ".py",
   "mimetype": "text/x-python",
   "name": "python",
   "nbconvert_exporter": "python",
   "pygments_lexer": "ipython3",
   "version": "3.10.4"
  },
  "orig_nbformat": 4,
  "vscode": {
   "interpreter": {
    "hash": "d905c6a59c21f0f46be93fdc832728644d115a3fdfd57971d06d899b53e0576e"
   }
  }
 },
 "nbformat": 4,
 "nbformat_minor": 2
}
